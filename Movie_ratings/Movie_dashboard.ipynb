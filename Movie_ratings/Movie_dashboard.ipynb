{
 "cells": [
  {
   "cell_type": "code",
   "execution_count": null,
   "metadata": {},
   "outputs": [],
   "source": [
    "import dash\n",
    "import dash_core_components as dcc\n",
    "import dash_html_components as html\n",
    "from dash.dependencies import Input, Output\n",
    "\n",
    "data = merged_df\n",
    "\n",
    "app = dash.Dash(__name__)"
   ]
  },
  {
   "cell_type": "code",
   "execution_count": null,
   "metadata": {},
   "outputs": [],
   "source": [
    "app.layout = html.Div(\n",
    "    children=[\n",
    "        html.H1(children=\"Moving Ratings from Douban and IMDB\",),\n",
    "        html.P(\n",
    "            children=\"Compare the movie ratings on two websites\"\n",
    "            \" to see the score difference from American and\"\n",
    "            \" Chinese Internet users\",\n",
    "        ),\n",
    "        html.Div(\n",
    "            children=[\n",
    "                html.Div(children=\"Select a movie\"),\n",
    "                dcc.Dropdown(\n",
    "                    id=\"genre-filter\",\n",
    "                    options=[\n",
    "                        {\"label\": genres, \"value\": genres}\n",
    "                        for genres in np.sort(data.genres.unique())\n",
    "                    ],\n",
    "                    value=\"Adventure\",\n",
    "                    clearable=True,\n",
    "                    placeholder=\"Select a genre\",\n",
    "                ),\n",
    "            ]\n",
    "        ),\n",
    "        html.Div(\n",
    "            children=[\n",
    "                html.Div(\n",
    "                    children=dcc.Graph(\n",
    "                        id=\"count-chart\", config={\"displayModeBar\": False},\n",
    "                    ),\n",
    "                ),\n",
    "            ],\n",
    "\n",
    "        ),\n",
    "        \n",
    "    ]\n",
    ")"
   ]
  },
  {
   "cell_type": "code",
   "execution_count": null,
   "metadata": {},
   "outputs": [],
   "source": [
    "@app.callback(\n",
    "    [Output(\"count-chart\", \"figure\")],\n",
    "    [\n",
    "        Input(\"genre-filter\", \"value\"),\n",
    "    ],\n",
    ")\n",
    "def update_charts(genre):\n",
    "    mask = (\n",
    "        (data.genres == genre)\n",
    "    )\n",
    "    filtered_data = data.loc[mask, :]\n",
    "    genre_chart_figure = {\n",
    "        \"data\": [\n",
    "            {\n",
    "                \"x\": genre,\n",
    "                \"y\": filtered_data['numVotes'],\n",
    "                \"type\": \"count\",\n",
    "            },\n",
    "        ],\n",
    "        \"layout\": {\n",
    "            \"title\": {\n",
    "                \"text\": \"Number of Votes of this genre\",\n",
    "                \"x\": 0.05,\n",
    "                \"xanchor\": \"left\",\n",
    "            },\n",
    "            \"xaxis\": {\"fixedrange\": True},\n",
    "            \"yaxis\": {\"tickprefix\": \"$\", \"fixedrange\": True},\n",
    "            \"colorway\": [\"#17B897\"],\n",
    "        },\n",
    "    }\n",
    "    return genre_chart_figure"
   ]
  },
  {
   "cell_type": "code",
   "execution_count": null,
   "metadata": {},
   "outputs": [],
   "source": [
    "#if __name__ == \"__main__\": #useful when running in terminal with more than 2 scripts\n",
    "app.run_server()"
   ]
  }
 ],
 "metadata": {
  "kernelspec": {
   "display_name": "Python 3",
   "language": "python",
   "name": "python3"
  },
  "language_info": {
   "codemirror_mode": {
    "name": "ipython",
    "version": 3
   },
   "file_extension": ".py",
   "mimetype": "text/x-python",
   "name": "python",
   "nbconvert_exporter": "python",
   "pygments_lexer": "ipython3",
   "version": "3.8.2"
  }
 },
 "nbformat": 4,
 "nbformat_minor": 4
}
